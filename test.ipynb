{
 "cells": [
  {
   "cell_type": "code",
   "execution_count": 1,
   "metadata": {},
   "outputs": [],
   "source": [
    "import requests\n",
    "import xml.etree.ElementTree as ET\n",
    "\n",
    "def extract_urls_from_sitemap(sitemap_url):\n",
    "    urls = []\n",
    "\n",
    "    try:\n",
    "        # Fetch the sitemap XML content from the URL\n",
    "        response = requests.get(sitemap_url)\n",
    "        response.raise_for_status()  # Raise an exception for unsuccessful HTTP status codes\n",
    "        sitemap_xml_content = response.content\n",
    "\n",
    "        # Parse the sitemap XML content\n",
    "        root = ET.fromstring(sitemap_xml_content)\n",
    "\n",
    "        # Find all loc elements and extract their text (URLs)\n",
    "        for loc_element in root.findall('.//{http://www.sitemaps.org/schemas/sitemap/0.9}loc'):\n",
    "            url = loc_element.text.strip()\n",
    "            urls.append(url)\n",
    "    except requests.exceptions.RequestException as e:\n",
    "        # Handle request or parsing errors, if any\n",
    "        print(f\"Error fetching or parsing the sitemap: {e}\")\n",
    "\n",
    "    return urls"
   ]
  },
  {
   "cell_type": "code",
   "execution_count": 2,
   "metadata": {},
   "outputs": [
    {
     "name": "stdout",
     "output_type": "stream",
     "text": [
      "['https://www.prothomalo.com/business/egkvb1ptqt', 'https://www.prothomalo.com/bangladesh/district/qefz6a247a', 'https://www.prothomalo.com/bangladesh/district/1q7na5tzyc', 'https://www.prothomalo.com/bangladesh/district/ic7rfnnol0', 'https://www.prothomalo.com/sports/cricket/arnova38c0', 'https://www.prothomalo.com/politics/19nzdnuu8f', 'https://www.bondhushava.com/activities/r4m2t5lx0m', 'https://www.prothomalo.com/bangladesh/z1419k2dun', 'https://www.prothomalo.com/world/india/htz46ntmej', 'https://www.prothomalo.com/video/bangladesh/klvtd7jbfa', 'https://www.prothomalo.com/opinion/column/2h33p69qop', 'https://www.prothomalo.com/bangladesh/k8zusmuodu', 'https://www.prothomalo.com/business/bank/fldta6bejc', 'https://www.prothomalo.com/bangladesh/district/h4wp59utpv', 'https://www.prothomalo.com/education/campus/sxfhkdfl53', 'https://www.prothomalo.com/bangladesh/district/avr4l9wbv3', 'https://www.prothomalo.com/politics/xn63rysrfh', 'https://www.prothomalo.com/business/corporate/keli65uzzv', 'https://www.prothomalo.com/bangladesh/g277d6szl7', 'https://www.prothomalo.com/lifestyle/d3odv4pfzg', 'https://www.prothomalo.com/bangladesh/district/5cd40mplrx', 'https://www.prothomalo.com/lifestyle/na19gmy618', 'https://www.prothomalo.com/education/xvv9w8qt6u', 'https://trust.prothomalo.com/activities/oditiya/c1fihasg9e', 'https://www.prothomalo.com/bangladesh/zza8pt2f4c', 'https://www.prothomalo.com/chakri/chakri-news/wy7nljcprq', 'https://www.prothomalo.com/bangladesh/tf3euv3bun', 'https://www.prothomalo.com/sports/cricket/lwsprcdvp6', 'https://www.prothomalo.com/entertainment/song/1e6q4u0jie', 'https://www.prothomalo.com/business/kfol79hmbo', 'https://www.prothomalo.com/video/bangladesh/17yeq4kmki', 'https://www.prothomalo.com/education/study/66vb9evtfq', 'https://www.prothomalo.com/bangladesh/district/6t1g6ddmwp', 'https://www.prothomalo.com/bangladesh/crime/i3lt0l9kts', 'https://www.haal.fashion/travel/domestic/4r92p22z8r', 'https://www.prothomalo.com/technology/0220hc7usd', 'https://www.prothomalo.com/religion/islam/cwrmjy81n6', 'https://www.prothomalo.com/bangladesh/district/ahqjpp9c3v', 'https://www.prothomalo.com/bangladesh/ods9768o3h', 'https://www.prothomalo.com/bangladesh/district/4sfun68z85', 'https://www.prothomalo.com/bangladesh/district/3432mnwfc4', 'https://www.prothomalo.com/bangladesh/r5yetbikhs', 'https://www.prothomalo.com/business/market/3z7dwcq391', 'https://www.prothomalo.com/bangladesh/district/8urcndq027', 'https://www.prothomalo.com/lifestyle/7043wig9hi', 'https://www.prothomalo.com/bangladesh/district/gzp3ndf0n3', 'https://www.prothomalo.com/sports/football/7aws9de1ur', 'https://www.prothomalo.com/technology/24j6ck4wb1', 'https://www.bondhushava.com/activities/w5wtbwjx2n', 'https://www.prothomalo.com/bangladesh/district/qrsx0b6lue', 'https://nagorik.prothomalo.com/nv8bbhm07p', 'https://www.prothomalo.com/entertainment/bollywood/1vwml2jl0j', 'https://www.prothomalo.com/chakri/chakri-news/0b37684zdn', 'https://www.prothomalo.com/photo/bangladesh/qg90ogsfkb', 'https://www.prothomalo.com/photo/glimpse/8l920aknji', 'https://www.prothomalo.com/world/europe/665h191mm2', 'https://www.prothomalo.com/bangladesh/7xozi7k0sa', 'https://www.prothomalo.com/video/9e8fg2j4bu', 'https://www.prothomalo.com/bangladesh/zd1f7k0gn9', 'https://www.prothomalo.com/business/world-business/c7witsaj8b', 'https://www.prothomalo.com/sports/football/5y8nkrtlzp', 'https://www.prothomalo.com/technology/z1pexkvxoz', 'https://www.prothomalo.com/bangladesh/district/m27lh2j0n8', 'https://www.bigganchinta.com/biology/1h17zh5f7o', 'https://www.prothomalo.com/bangladesh/t6hm5aayh1', 'https://www.prothomalo.com/bangladesh/district/edjd5x7ax3', 'https://www.prothomalo.com/entertainment/dhallywood/pkqf9vapou', 'https://www.prothomalo.com/bangladesh/district/5blfvd1ply', 'https://www.haal.fashion/fashion/review/kkjcp9rtnr', 'https://www.prothomalo.com/education/campus/jccddng9l2', 'https://www.prothomalo.com/sports/cricket/lcq9xqfvtl', 'https://www.prothomalo.com/bangladesh/y1xn9zn2wt', 'https://www.prothomalo.com/bangladesh/district/5dhj2x49az', 'https://www.prothomalo.com/bangladesh/capital/lsqt0hcyp4', 'https://www.prothomalo.com/onnoalo/treatise/5oolm13vhq', 'https://www.bigganchinta.com/events/6dbqlkg0a9', 'https://www.prothomalo.com/bangladesh/district/03qk1oy8ix', 'https://www.prothomalo.com/fun/sf2xqeze7a', 'https://www.prothomalo.com/opinion/column/91w2ehubko', 'https://www.prothomalo.com/fun/afdfz1uxvy', 'https://www.bondhushava.com/activities/kasodyl4mn', 'https://www.prothomalo.com/bangladesh/district/lgsrvvfecc', 'https://www.prothomalo.com/fun/4a6hooai98', 'https://www.prothomalo.com/bangladesh/district/ihjdwkg3od', 'https://www.prothomalo.com/video/bangladesh/9i2q1s0qei', 'https://www.prothomalo.com/bangladesh/crime/z8lfvl4485', 'https://www.prothomalo.com/bangladesh/04dbhr07u3', 'https://www.prothomalo.com/bangladesh/5pem1c1k5s', 'https://www.prothomalo.com/sports/cricket/tlc2mm6kqc', 'https://www.prothomalo.com/education/scholarship/hr3v0s3q1n', 'https://www.prothomalo.com/bangladesh/g8wgdw1yp5', 'https://www.prothomalo.com/bangladesh/capital/fmqx74fof4', 'https://www.prothomalo.com/bangladesh/b9n2il3nf7', 'https://www.prothomalo.com/lifestyle/vz40g97oy0', 'https://www.prothomalo.com/politics/1kl1c7pfxj', 'https://www.prothomalo.com/bangladesh/qsmm8iulpq', 'https://www.prothomalo.com/bangladesh/district/tmdkqppp7j', 'https://www.prothomalo.com/sports/mh8sujdtnj', 'https://www.prothomalo.com/bangladesh/2ozz9cjeks', 'https://www.kishoralo.com/comics/ui1fq4bkrz', 'https://www.prothomalo.com/bangladesh/district/5f0sh8e89m', 'https://www.prothomalo.com/technology/cyberworld/e4dxv59ryv', 'https://www.prothomalo.com/entertainment/hollywood/0kdb5xe2r1', 'https://www.prothomalo.com/world/south-america/fcqtcy9hta', 'https://www.prothomalo.com/business/world-business/dvl0wlszj1', 'https://www.prothomalo.com/bangladesh/district/8bkcd5zd6u', 'https://www.prothomalo.com/education/study/msjyuaqonh', 'https://www.prothomalo.com/lifestyle/n9rmhkkndx', 'https://www.prothomalo.com/bangladesh/s87bgng5of', 'https://www.prothomalo.com/bangladesh/district/hftleovgs1', 'https://www.prothomalo.com/video/bangladesh/ll3df69dqn', 'https://www.prothomalo.com/bangladesh/district/2zsfivdsi1', 'https://www.prothomalo.com/bangladesh/district/j48z0421tx', 'https://www.prothomalo.com/world/asia/yu06dabgbc', 'https://www.prothomalo.com/sports/cricket/x418qzlawt', 'https://www.prothomalo.com/bangladesh/e5uxhqlh0s', 'https://www.prothomalo.com/politics/vevvcr0qvf', 'https://www.prothomalo.com/bangladesh/2ldl0rmxmz', 'https://www.prothomalo.com/sports/cricket/0j0u8tdt3n', 'https://www.prothomalo.com/bangladesh/district/ygsyi2oi52', 'https://www.prothomalo.com/world/africa/6ufxgvhwb5', 'https://www.prothomalo.com/bangladesh/district/0xrfaa5q3o', 'https://www.prothomalo.com/chakri/employment/bmjhnu339i', 'https://www.prothomalo.com/bangladesh/blcgygc6kx', 'https://www.bondhushava.com/writings/z6w2d7y8iq', 'https://www.prothomalo.com/bangladesh/district/zvfsz5ivek', 'https://www.prothomalo.com/business/market/5tbkdqgcrd', 'https://www.prothomalo.com/chakri/employment/wd7sc2t94a', 'https://trust.prothomalo.com/activities/drug-abuse/nzzpunmkll', 'https://www.prothomalo.com/video/bangladesh/eigh3hwa8n', 'https://www.prothomalo.com/business/world-business/9uvifhnqzg', 'https://www.prothomalo.com/education/higher-education/wmuhg9aixp', 'https://www.prothomalo.com/business/world-business/dfucotdy3p', 'https://www.prothomalo.com/bangladesh/332pt12a0w', 'https://www.prothomalo.com/sports/cricket/9m56uo507l', 'https://www.prothomalo.com/chakri/employment/ginqsn0lug', 'https://www.prothomalo.com/bangladesh/district/o1zkvpgdy6', 'https://www.prothomalo.com/video/international/vg3v7vcyox', 'https://nagorik.prothomalo.com/durporobash/8gnb0h34u3', 'https://www.prothomalo.com/religion/islam/1cd0cq96z7', 'https://www.bigganchinta.com/feature/xcqpftk32u', 'https://www.prothomalo.com/lifestyle/3uiqthjwwr', 'https://www.prothomalo.com/bangladesh/crime/g0jjodkhkd', 'https://www.prothomalo.com/sports/cricket/yyxa1ugwyu', 'https://www.prothomalo.com/education/admission/bczdvcq0xd', 'https://www.prothomalo.com/bangladesh/dync3n5cow', 'https://www.prothomalo.com/entertainment/dhallywood/evdqrwv57a', 'https://www.prothomalo.com/bangladesh/ap2n3q7wac', 'https://www.prothomalo.com/education/admission/rlekxxeyrz', 'https://www.bondhushava.com/writings/96gir3tvvb', 'https://www.kishoralo.com/h0zwuca4d8', 'https://www.haal.fashion/lifestyle/well-being/955xt9fnmt', 'https://www.prothomalo.com/sports/cricket/sml4htah6g', 'https://www.prothomalo.com/world/south-america/sbyv2846ke', 'https://www.prothomalo.com/world/europe/0rs78ymymd', 'https://www.prothomalo.com/business/world-business/hvzxbee6f1', 'https://www.prothomalo.com/entertainment/ott/sd4uwshwde', 'https://www.prothomalo.com/world/india/ifvxaq4d0q', 'https://www.prothomalo.com/sports/football/7r458sltjc', 'https://www.prothomalo.com/bangladesh/38q0ylh2mw', 'https://www.prothomalo.com/video/bangladesh/1zlee2ihbg', 'https://www.prothomalo.com/lifestyle/health/567t6ecna5', 'https://www.prothomalo.com/bangladesh/environment/weoitt1aj9', 'https://www.prothomalo.com/world/963tfxtghp', 'https://www.prothomalo.com/bangladesh/district/vc6kbbmy9x', 'https://www.prothomalo.com/business/0ctpavtyu7', 'https://www.prothomalo.com/chakri/chakri-suggestion/ojcwiab9nd', 'https://www.prothomalo.com/education/scholarship/ozde2imzr8', 'https://www.prothomalo.com/education/study/fvkf1569a8', 'https://www.prothomalo.com/education/study/0q9boi95zs', 'https://www.prothomalo.com/education/study/tiqyrt5yc3', 'https://www.prothomalo.com/education/study/fkwu71fii7', 'https://www.prothomalo.com/education/study/kpoz965em3', 'https://www.prothomalo.com/education/study/3n24bff4s9', 'https://www.prothomalo.com/education/study/idd16yub9b', 'https://www.prothomalo.com/opinion/column/syc2tnae8q', 'https://www.prothomalo.com/lifestyle/g2sl3ntt80', 'https://www.prothomalo.com/sports/football/qs2ctivqu5', 'https://www.prothomalo.com/bangladesh/g4bgjcxgo7', 'https://www.prothomalo.com/sports/football/wjcli6uzbp', 'https://www.prothomalo.com/opinion/letter/gwoam8cqti', 'https://www.prothomalo.com/sports/qqpv9nxg2j']\n"
     ]
    }
   ],
   "source": [
    "# Example usage:\n",
    "sitemap_url = \"https://www.prothomalo.com/sitemap/sitemap-daily-2023-07-30.xml\"\n",
    "urls_list = extract_urls_from_sitemap(sitemap_url)\n",
    "print(urls_list)"
   ]
  },
  {
   "cell_type": "code",
   "execution_count": 4,
   "metadata": {},
   "outputs": [
    {
     "name": "stdout",
     "output_type": "stream",
     "text": [
      "['https://www.prothomalo.com/business/egkvb1ptqt', 'https://www.prothomalo.com/bangladesh/district/qefz6a247a', 'https://www.prothomalo.com/bangladesh/district/1q7na5tzyc', 'https://www.prothomalo.com/bangladesh/district/ic7rfnnol0', 'https://www.prothomalo.com/sports/cricket/arnova38c0', 'https://www.prothomalo.com/politics/19nzdnuu8f', 'https://www.bondhushava.com/activities/r4m2t5lx0m', 'https://www.prothomalo.com/bangladesh/z1419k2dun', 'https://www.prothomalo.com/world/india/htz46ntmej', 'https://www.prothomalo.com/video/bangladesh/klvtd7jbfa', 'https://www.prothomalo.com/opinion/column/2h33p69qop', 'https://www.prothomalo.com/bangladesh/k8zusmuodu', 'https://www.prothomalo.com/business/bank/fldta6bejc', 'https://www.prothomalo.com/bangladesh/district/h4wp59utpv', 'https://www.prothomalo.com/education/campus/sxfhkdfl53', 'https://www.prothomalo.com/bangladesh/district/avr4l9wbv3', 'https://www.prothomalo.com/politics/xn63rysrfh', 'https://www.prothomalo.com/business/corporate/keli65uzzv', 'https://www.prothomalo.com/bangladesh/g277d6szl7', 'https://www.prothomalo.com/lifestyle/d3odv4pfzg', 'https://www.prothomalo.com/bangladesh/district/5cd40mplrx', 'https://www.prothomalo.com/lifestyle/na19gmy618', 'https://www.prothomalo.com/education/xvv9w8qt6u', 'https://trust.prothomalo.com/activities/oditiya/c1fihasg9e', 'https://www.prothomalo.com/bangladesh/zza8pt2f4c', 'https://www.prothomalo.com/chakri/chakri-news/wy7nljcprq', 'https://www.prothomalo.com/bangladesh/tf3euv3bun', 'https://www.prothomalo.com/sports/cricket/lwsprcdvp6', 'https://www.prothomalo.com/entertainment/song/1e6q4u0jie', 'https://www.prothomalo.com/business/kfol79hmbo', 'https://www.prothomalo.com/video/bangladesh/17yeq4kmki', 'https://www.prothomalo.com/education/study/66vb9evtfq', 'https://www.prothomalo.com/bangladesh/district/6t1g6ddmwp', 'https://www.prothomalo.com/bangladesh/crime/i3lt0l9kts', 'https://www.haal.fashion/travel/domestic/4r92p22z8r', 'https://www.prothomalo.com/technology/0220hc7usd', 'https://www.prothomalo.com/religion/islam/cwrmjy81n6', 'https://www.prothomalo.com/bangladesh/district/ahqjpp9c3v', 'https://www.prothomalo.com/bangladesh/ods9768o3h', 'https://www.prothomalo.com/bangladesh/district/4sfun68z85', 'https://www.prothomalo.com/bangladesh/district/3432mnwfc4', 'https://www.prothomalo.com/bangladesh/r5yetbikhs', 'https://www.prothomalo.com/business/market/3z7dwcq391', 'https://www.prothomalo.com/bangladesh/district/8urcndq027', 'https://www.prothomalo.com/lifestyle/7043wig9hi', 'https://www.prothomalo.com/bangladesh/district/gzp3ndf0n3', 'https://www.prothomalo.com/sports/football/7aws9de1ur', 'https://www.prothomalo.com/technology/24j6ck4wb1', 'https://www.bondhushava.com/activities/w5wtbwjx2n', 'https://www.prothomalo.com/bangladesh/district/qrsx0b6lue', 'https://nagorik.prothomalo.com/nv8bbhm07p', 'https://www.prothomalo.com/entertainment/bollywood/1vwml2jl0j', 'https://www.prothomalo.com/chakri/chakri-news/0b37684zdn', 'https://www.prothomalo.com/photo/bangladesh/qg90ogsfkb', 'https://www.prothomalo.com/photo/glimpse/8l920aknji', 'https://www.prothomalo.com/world/europe/665h191mm2', 'https://www.prothomalo.com/bangladesh/7xozi7k0sa', 'https://www.prothomalo.com/video/9e8fg2j4bu', 'https://www.prothomalo.com/bangladesh/zd1f7k0gn9', 'https://www.prothomalo.com/business/world-business/c7witsaj8b', 'https://www.prothomalo.com/sports/football/5y8nkrtlzp', 'https://www.prothomalo.com/technology/z1pexkvxoz', 'https://www.prothomalo.com/bangladesh/district/m27lh2j0n8', 'https://www.bigganchinta.com/biology/1h17zh5f7o', 'https://www.prothomalo.com/bangladesh/t6hm5aayh1', 'https://www.prothomalo.com/bangladesh/district/edjd5x7ax3', 'https://www.prothomalo.com/entertainment/dhallywood/pkqf9vapou', 'https://www.prothomalo.com/bangladesh/district/5blfvd1ply', 'https://www.haal.fashion/fashion/review/kkjcp9rtnr', 'https://www.prothomalo.com/education/campus/jccddng9l2', 'https://www.prothomalo.com/sports/cricket/lcq9xqfvtl', 'https://www.prothomalo.com/bangladesh/y1xn9zn2wt', 'https://www.prothomalo.com/bangladesh/district/5dhj2x49az', 'https://www.prothomalo.com/bangladesh/capital/lsqt0hcyp4', 'https://www.prothomalo.com/onnoalo/treatise/5oolm13vhq', 'https://www.bigganchinta.com/events/6dbqlkg0a9', 'https://www.prothomalo.com/bangladesh/district/03qk1oy8ix', 'https://www.prothomalo.com/fun/sf2xqeze7a', 'https://www.prothomalo.com/opinion/column/91w2ehubko', 'https://www.prothomalo.com/fun/afdfz1uxvy', 'https://www.bondhushava.com/activities/kasodyl4mn', 'https://www.prothomalo.com/bangladesh/district/lgsrvvfecc', 'https://www.prothomalo.com/fun/4a6hooai98', 'https://www.prothomalo.com/bangladesh/district/ihjdwkg3od', 'https://www.prothomalo.com/video/bangladesh/9i2q1s0qei', 'https://www.prothomalo.com/bangladesh/crime/z8lfvl4485', 'https://www.prothomalo.com/bangladesh/04dbhr07u3', 'https://www.prothomalo.com/bangladesh/5pem1c1k5s', 'https://www.prothomalo.com/sports/cricket/tlc2mm6kqc', 'https://www.prothomalo.com/education/scholarship/hr3v0s3q1n', 'https://www.prothomalo.com/bangladesh/g8wgdw1yp5', 'https://www.prothomalo.com/bangladesh/capital/fmqx74fof4', 'https://www.prothomalo.com/bangladesh/b9n2il3nf7', 'https://www.prothomalo.com/lifestyle/vz40g97oy0', 'https://www.prothomalo.com/politics/1kl1c7pfxj', 'https://www.prothomalo.com/bangladesh/qsmm8iulpq', 'https://www.prothomalo.com/bangladesh/district/tmdkqppp7j', 'https://www.prothomalo.com/sports/mh8sujdtnj', 'https://www.prothomalo.com/bangladesh/2ozz9cjeks', 'https://www.kishoralo.com/comics/ui1fq4bkrz', 'https://www.prothomalo.com/bangladesh/district/5f0sh8e89m', 'https://www.prothomalo.com/technology/cyberworld/e4dxv59ryv', 'https://www.prothomalo.com/entertainment/hollywood/0kdb5xe2r1', 'https://www.prothomalo.com/world/south-america/fcqtcy9hta', 'https://www.prothomalo.com/business/world-business/dvl0wlszj1', 'https://www.prothomalo.com/bangladesh/district/8bkcd5zd6u', 'https://www.prothomalo.com/education/study/msjyuaqonh', 'https://www.prothomalo.com/lifestyle/n9rmhkkndx', 'https://www.prothomalo.com/bangladesh/s87bgng5of', 'https://www.prothomalo.com/bangladesh/district/hftleovgs1', 'https://www.prothomalo.com/video/bangladesh/ll3df69dqn', 'https://www.prothomalo.com/bangladesh/district/2zsfivdsi1', 'https://www.prothomalo.com/bangladesh/district/j48z0421tx', 'https://www.prothomalo.com/world/asia/yu06dabgbc', 'https://www.prothomalo.com/sports/cricket/x418qzlawt', 'https://www.prothomalo.com/bangladesh/e5uxhqlh0s', 'https://www.prothomalo.com/politics/vevvcr0qvf', 'https://www.prothomalo.com/bangladesh/2ldl0rmxmz', 'https://www.prothomalo.com/sports/cricket/0j0u8tdt3n', 'https://www.prothomalo.com/bangladesh/district/ygsyi2oi52', 'https://www.prothomalo.com/world/africa/6ufxgvhwb5', 'https://www.prothomalo.com/bangladesh/district/0xrfaa5q3o', 'https://www.prothomalo.com/chakri/employment/bmjhnu339i', 'https://www.prothomalo.com/bangladesh/blcgygc6kx', 'https://www.bondhushava.com/writings/z6w2d7y8iq', 'https://www.prothomalo.com/bangladesh/district/zvfsz5ivek', 'https://www.prothomalo.com/business/market/5tbkdqgcrd', 'https://www.prothomalo.com/chakri/employment/wd7sc2t94a', 'https://trust.prothomalo.com/activities/drug-abuse/nzzpunmkll', 'https://www.prothomalo.com/video/bangladesh/eigh3hwa8n', 'https://www.prothomalo.com/business/world-business/9uvifhnqzg', 'https://www.prothomalo.com/education/higher-education/wmuhg9aixp', 'https://www.prothomalo.com/business/world-business/dfucotdy3p', 'https://www.prothomalo.com/bangladesh/332pt12a0w', 'https://www.prothomalo.com/sports/cricket/9m56uo507l', 'https://www.prothomalo.com/chakri/employment/ginqsn0lug', 'https://www.prothomalo.com/bangladesh/district/o1zkvpgdy6', 'https://www.prothomalo.com/video/international/vg3v7vcyox', 'https://nagorik.prothomalo.com/durporobash/8gnb0h34u3', 'https://www.prothomalo.com/religion/islam/1cd0cq96z7', 'https://www.bigganchinta.com/feature/xcqpftk32u', 'https://www.prothomalo.com/lifestyle/3uiqthjwwr', 'https://www.prothomalo.com/bangladesh/crime/g0jjodkhkd', 'https://www.prothomalo.com/sports/cricket/yyxa1ugwyu', 'https://www.prothomalo.com/education/admission/bczdvcq0xd', 'https://www.prothomalo.com/bangladesh/dync3n5cow', 'https://www.prothomalo.com/entertainment/dhallywood/evdqrwv57a', 'https://www.prothomalo.com/bangladesh/ap2n3q7wac', 'https://www.prothomalo.com/education/admission/rlekxxeyrz', 'https://www.bondhushava.com/writings/96gir3tvvb', 'https://www.kishoralo.com/h0zwuca4d8', 'https://www.haal.fashion/lifestyle/well-being/955xt9fnmt', 'https://www.prothomalo.com/sports/cricket/sml4htah6g', 'https://www.prothomalo.com/world/south-america/sbyv2846ke', 'https://www.prothomalo.com/world/europe/0rs78ymymd', 'https://www.prothomalo.com/business/world-business/hvzxbee6f1', 'https://www.prothomalo.com/entertainment/ott/sd4uwshwde', 'https://www.prothomalo.com/world/india/ifvxaq4d0q', 'https://www.prothomalo.com/sports/football/7r458sltjc', 'https://www.prothomalo.com/bangladesh/38q0ylh2mw', 'https://www.prothomalo.com/video/bangladesh/1zlee2ihbg', 'https://www.prothomalo.com/lifestyle/health/567t6ecna5', 'https://www.prothomalo.com/bangladesh/environment/weoitt1aj9', 'https://www.prothomalo.com/world/963tfxtghp', 'https://www.prothomalo.com/bangladesh/district/vc6kbbmy9x', 'https://www.prothomalo.com/business/0ctpavtyu7', 'https://www.prothomalo.com/chakri/chakri-suggestion/ojcwiab9nd', 'https://www.prothomalo.com/education/scholarship/ozde2imzr8', 'https://www.prothomalo.com/education/study/fvkf1569a8', 'https://www.prothomalo.com/education/study/0q9boi95zs', 'https://www.prothomalo.com/education/study/tiqyrt5yc3', 'https://www.prothomalo.com/education/study/fkwu71fii7', 'https://www.prothomalo.com/education/study/kpoz965em3', 'https://www.prothomalo.com/education/study/3n24bff4s9', 'https://www.prothomalo.com/education/study/idd16yub9b', 'https://www.prothomalo.com/opinion/column/syc2tnae8q', 'https://www.prothomalo.com/lifestyle/g2sl3ntt80', 'https://www.prothomalo.com/sports/football/qs2ctivqu5', 'https://www.prothomalo.com/bangladesh/g4bgjcxgo7', 'https://www.prothomalo.com/sports/football/wjcli6uzbp', 'https://www.prothomalo.com/opinion/letter/gwoam8cqti', 'https://www.prothomalo.com/sports/qqpv9nxg2j']\n"
     ]
    }
   ],
   "source": [
    "import pickle\n",
    "\n",
    "# Example usage:\n",
    "file_path = '/home/siyam/Desktop/github/3. news_recommendation/dags/data/urls_list.pkl'\n",
    "\n",
    "# Load the list from the file using pickle.load()\n",
    "with open(file_path, 'rb') as f:\n",
    "    loaded_list = pickle.load(f)\n",
    "\n",
    "print(loaded_list)\n"
   ]
  },
  {
   "cell_type": "code",
   "execution_count": 3,
   "metadata": {},
   "outputs": [
    {
     "name": "stdout",
     "output_type": "stream",
     "text": [
      "['https://www.prothomalo.com/business/egkvb1ptqt', 'https://www.prothomalo.com/bangladesh/district/qefz6a247a', 'https://www.prothomalo.com/bangladesh/district/1q7na5tzyc', 'https://www.prothomalo.com/bangladesh/district/ic7rfnnol0', 'https://www.prothomalo.com/sports/cricket/arnova38c0', 'https://www.prothomalo.com/politics/19nzdnuu8f', 'https://www.bondhushava.com/activities/r4m2t5lx0m', 'https://www.prothomalo.com/bangladesh/z1419k2dun', 'https://www.prothomalo.com/world/india/htz46ntmej', 'https://www.prothomalo.com/video/bangladesh/klvtd7jbfa', 'https://www.prothomalo.com/opinion/column/2h33p69qop', 'https://www.prothomalo.com/bangladesh/k8zusmuodu', 'https://www.prothomalo.com/business/bank/fldta6bejc', 'https://www.prothomalo.com/bangladesh/district/h4wp59utpv', 'https://www.prothomalo.com/education/campus/sxfhkdfl53', 'https://www.prothomalo.com/bangladesh/district/avr4l9wbv3', 'https://www.prothomalo.com/politics/xn63rysrfh', 'https://www.prothomalo.com/business/corporate/keli65uzzv', 'https://www.prothomalo.com/bangladesh/g277d6szl7', 'https://www.prothomalo.com/lifestyle/d3odv4pfzg', 'https://www.prothomalo.com/bangladesh/district/5cd40mplrx', 'https://www.prothomalo.com/lifestyle/na19gmy618', 'https://www.prothomalo.com/education/xvv9w8qt6u', 'https://trust.prothomalo.com/activities/oditiya/c1fihasg9e', 'https://www.prothomalo.com/bangladesh/zza8pt2f4c', 'https://www.prothomalo.com/chakri/chakri-news/wy7nljcprq', 'https://www.prothomalo.com/bangladesh/tf3euv3bun', 'https://www.prothomalo.com/sports/cricket/lwsprcdvp6', 'https://www.prothomalo.com/entertainment/song/1e6q4u0jie', 'https://www.prothomalo.com/business/kfol79hmbo', 'https://www.prothomalo.com/video/bangladesh/17yeq4kmki', 'https://www.prothomalo.com/education/study/66vb9evtfq', 'https://www.prothomalo.com/bangladesh/district/6t1g6ddmwp', 'https://www.prothomalo.com/bangladesh/crime/i3lt0l9kts', 'https://www.haal.fashion/travel/domestic/4r92p22z8r', 'https://www.prothomalo.com/technology/0220hc7usd', 'https://www.prothomalo.com/religion/islam/cwrmjy81n6', 'https://www.prothomalo.com/bangladesh/district/ahqjpp9c3v', 'https://www.prothomalo.com/bangladesh/ods9768o3h', 'https://www.prothomalo.com/bangladesh/district/4sfun68z85', 'https://www.prothomalo.com/bangladesh/district/3432mnwfc4', 'https://www.prothomalo.com/bangladesh/r5yetbikhs', 'https://www.prothomalo.com/business/market/3z7dwcq391', 'https://www.prothomalo.com/bangladesh/district/8urcndq027', 'https://www.prothomalo.com/lifestyle/7043wig9hi', 'https://www.prothomalo.com/bangladesh/district/gzp3ndf0n3', 'https://www.prothomalo.com/sports/football/7aws9de1ur', 'https://www.prothomalo.com/technology/24j6ck4wb1', 'https://www.bondhushava.com/activities/w5wtbwjx2n', 'https://www.prothomalo.com/bangladesh/district/qrsx0b6lue', 'https://nagorik.prothomalo.com/nv8bbhm07p', 'https://www.prothomalo.com/entertainment/bollywood/1vwml2jl0j', 'https://www.prothomalo.com/chakri/chakri-news/0b37684zdn', 'https://www.prothomalo.com/photo/bangladesh/qg90ogsfkb', 'https://www.prothomalo.com/photo/glimpse/8l920aknji', 'https://www.prothomalo.com/world/europe/665h191mm2', 'https://www.prothomalo.com/bangladesh/7xozi7k0sa', 'https://www.prothomalo.com/video/9e8fg2j4bu', 'https://www.prothomalo.com/bangladesh/zd1f7k0gn9', 'https://www.prothomalo.com/business/world-business/c7witsaj8b', 'https://www.prothomalo.com/sports/football/5y8nkrtlzp', 'https://www.prothomalo.com/technology/z1pexkvxoz', 'https://www.prothomalo.com/bangladesh/district/m27lh2j0n8', 'https://www.bigganchinta.com/biology/1h17zh5f7o', 'https://www.prothomalo.com/bangladesh/t6hm5aayh1', 'https://www.prothomalo.com/bangladesh/district/edjd5x7ax3', 'https://www.prothomalo.com/entertainment/dhallywood/pkqf9vapou', 'https://www.prothomalo.com/bangladesh/district/5blfvd1ply', 'https://www.haal.fashion/fashion/review/kkjcp9rtnr', 'https://www.prothomalo.com/education/campus/jccddng9l2', 'https://www.prothomalo.com/sports/cricket/lcq9xqfvtl', 'https://www.prothomalo.com/bangladesh/y1xn9zn2wt', 'https://www.prothomalo.com/bangladesh/district/5dhj2x49az', 'https://www.prothomalo.com/bangladesh/capital/lsqt0hcyp4', 'https://www.prothomalo.com/onnoalo/treatise/5oolm13vhq', 'https://www.bigganchinta.com/events/6dbqlkg0a9', 'https://www.prothomalo.com/bangladesh/district/03qk1oy8ix', 'https://www.prothomalo.com/fun/sf2xqeze7a', 'https://www.prothomalo.com/opinion/column/91w2ehubko', 'https://www.prothomalo.com/fun/afdfz1uxvy', 'https://www.bondhushava.com/activities/kasodyl4mn', 'https://www.prothomalo.com/bangladesh/district/lgsrvvfecc', 'https://www.prothomalo.com/fun/4a6hooai98', 'https://www.prothomalo.com/bangladesh/district/ihjdwkg3od', 'https://www.prothomalo.com/video/bangladesh/9i2q1s0qei', 'https://www.prothomalo.com/bangladesh/crime/z8lfvl4485', 'https://www.prothomalo.com/bangladesh/04dbhr07u3', 'https://www.prothomalo.com/bangladesh/5pem1c1k5s', 'https://www.prothomalo.com/sports/cricket/tlc2mm6kqc', 'https://www.prothomalo.com/education/scholarship/hr3v0s3q1n', 'https://www.prothomalo.com/bangladesh/g8wgdw1yp5', 'https://www.prothomalo.com/bangladesh/capital/fmqx74fof4', 'https://www.prothomalo.com/bangladesh/b9n2il3nf7', 'https://www.prothomalo.com/lifestyle/vz40g97oy0', 'https://www.prothomalo.com/politics/1kl1c7pfxj', 'https://www.prothomalo.com/bangladesh/qsmm8iulpq', 'https://www.prothomalo.com/bangladesh/district/tmdkqppp7j', 'https://www.prothomalo.com/sports/mh8sujdtnj', 'https://www.prothomalo.com/bangladesh/2ozz9cjeks', 'https://www.kishoralo.com/comics/ui1fq4bkrz', 'https://www.prothomalo.com/bangladesh/district/5f0sh8e89m', 'https://www.prothomalo.com/technology/cyberworld/e4dxv59ryv', 'https://www.prothomalo.com/entertainment/hollywood/0kdb5xe2r1', 'https://www.prothomalo.com/world/south-america/fcqtcy9hta', 'https://www.prothomalo.com/business/world-business/dvl0wlszj1', 'https://www.prothomalo.com/bangladesh/district/8bkcd5zd6u', 'https://www.prothomalo.com/education/study/msjyuaqonh', 'https://www.prothomalo.com/lifestyle/n9rmhkkndx', 'https://www.prothomalo.com/bangladesh/s87bgng5of', 'https://www.prothomalo.com/bangladesh/district/hftleovgs1', 'https://www.prothomalo.com/video/bangladesh/ll3df69dqn', 'https://www.prothomalo.com/bangladesh/district/2zsfivdsi1', 'https://www.prothomalo.com/bangladesh/district/j48z0421tx', 'https://www.prothomalo.com/world/asia/yu06dabgbc', 'https://www.prothomalo.com/sports/cricket/x418qzlawt', 'https://www.prothomalo.com/bangladesh/e5uxhqlh0s', 'https://www.prothomalo.com/politics/vevvcr0qvf', 'https://www.prothomalo.com/bangladesh/2ldl0rmxmz', 'https://www.prothomalo.com/sports/cricket/0j0u8tdt3n', 'https://www.prothomalo.com/bangladesh/district/ygsyi2oi52', 'https://www.prothomalo.com/world/africa/6ufxgvhwb5', 'https://www.prothomalo.com/bangladesh/district/0xrfaa5q3o', 'https://www.prothomalo.com/chakri/employment/bmjhnu339i', 'https://www.prothomalo.com/bangladesh/blcgygc6kx', 'https://www.bondhushava.com/writings/z6w2d7y8iq', 'https://www.prothomalo.com/bangladesh/district/zvfsz5ivek', 'https://www.prothomalo.com/business/market/5tbkdqgcrd', 'https://www.prothomalo.com/chakri/employment/wd7sc2t94a', 'https://trust.prothomalo.com/activities/drug-abuse/nzzpunmkll', 'https://www.prothomalo.com/video/bangladesh/eigh3hwa8n', 'https://www.prothomalo.com/business/world-business/9uvifhnqzg', 'https://www.prothomalo.com/education/higher-education/wmuhg9aixp', 'https://www.prothomalo.com/business/world-business/dfucotdy3p', 'https://www.prothomalo.com/bangladesh/332pt12a0w', 'https://www.prothomalo.com/sports/cricket/9m56uo507l', 'https://www.prothomalo.com/chakri/employment/ginqsn0lug', 'https://www.prothomalo.com/bangladesh/district/o1zkvpgdy6', 'https://www.prothomalo.com/video/international/vg3v7vcyox', 'https://nagorik.prothomalo.com/durporobash/8gnb0h34u3', 'https://www.prothomalo.com/religion/islam/1cd0cq96z7', 'https://www.bigganchinta.com/feature/xcqpftk32u', 'https://www.prothomalo.com/lifestyle/3uiqthjwwr', 'https://www.prothomalo.com/bangladesh/crime/g0jjodkhkd', 'https://www.prothomalo.com/sports/cricket/yyxa1ugwyu', 'https://www.prothomalo.com/education/admission/bczdvcq0xd', 'https://www.prothomalo.com/bangladesh/dync3n5cow', 'https://www.prothomalo.com/entertainment/dhallywood/evdqrwv57a', 'https://www.prothomalo.com/bangladesh/ap2n3q7wac', 'https://www.prothomalo.com/education/admission/rlekxxeyrz', 'https://www.bondhushava.com/writings/96gir3tvvb', 'https://www.kishoralo.com/h0zwuca4d8', 'https://www.haal.fashion/lifestyle/well-being/955xt9fnmt', 'https://www.prothomalo.com/sports/cricket/sml4htah6g', 'https://www.prothomalo.com/world/south-america/sbyv2846ke', 'https://www.prothomalo.com/world/europe/0rs78ymymd', 'https://www.prothomalo.com/business/world-business/hvzxbee6f1', 'https://www.prothomalo.com/entertainment/ott/sd4uwshwde', 'https://www.prothomalo.com/world/india/ifvxaq4d0q', 'https://www.prothomalo.com/sports/football/7r458sltjc', 'https://www.prothomalo.com/bangladesh/38q0ylh2mw', 'https://www.prothomalo.com/video/bangladesh/1zlee2ihbg', 'https://www.prothomalo.com/lifestyle/health/567t6ecna5', 'https://www.prothomalo.com/bangladesh/environment/weoitt1aj9', 'https://www.prothomalo.com/world/963tfxtghp', 'https://www.prothomalo.com/bangladesh/district/vc6kbbmy9x', 'https://www.prothomalo.com/business/0ctpavtyu7', 'https://www.prothomalo.com/chakri/chakri-suggestion/ojcwiab9nd', 'https://www.prothomalo.com/education/scholarship/ozde2imzr8', 'https://www.prothomalo.com/education/study/fvkf1569a8', 'https://www.prothomalo.com/education/study/0q9boi95zs', 'https://www.prothomalo.com/education/study/tiqyrt5yc3', 'https://www.prothomalo.com/education/study/fkwu71fii7', 'https://www.prothomalo.com/education/study/kpoz965em3', 'https://www.prothomalo.com/education/study/3n24bff4s9', 'https://www.prothomalo.com/education/study/idd16yub9b', 'https://www.prothomalo.com/opinion/column/syc2tnae8q', 'https://www.prothomalo.com/lifestyle/g2sl3ntt80', 'https://www.prothomalo.com/sports/football/qs2ctivqu5', 'https://www.prothomalo.com/bangladesh/g4bgjcxgo7', 'https://www.prothomalo.com/sports/football/wjcli6uzbp', 'https://www.prothomalo.com/opinion/letter/gwoam8cqti', 'https://www.prothomalo.com/sports/qqpv9nxg2j']\n"
     ]
    }
   ],
   "source": [
    "import pickle\n",
    "\n",
    "def save_list_to_file_with_pickle(file_path, data_list):\n",
    "    with open(file_path, 'wb') as f:\n",
    "        pickle.dump(data_list, f)\n",
    "\n",
    "def load_list_from_file_with_pickle(file_path):\n",
    "    with open(file_path, 'rb') as f:\n",
    "        data_list = pickle.load(f)\n",
    "    return data_list\n",
    "\n",
    "# Example usage:\n",
    "my_list = urls_list\n",
    "file_path = './dags/data/urls_list.pkl'\n",
    "\n",
    "# Save the list to a file\n",
    "save_list_to_file_with_pickle(file_path, my_list)\n",
    "\n",
    "# Load the list back from the file\n",
    "loaded_list = load_list_from_file_with_pickle(file_path)\n",
    "print(loaded_list)\n"
   ]
  },
  {
   "cell_type": "code",
   "execution_count": 7,
   "metadata": {},
   "outputs": [],
   "source": [
    "import newspaper\n",
    "import pandas as pd\n",
    "from tqdm import tqdm\n",
    "\n",
    "def scrape_data_from_url(url):\n",
    "    article = newspaper.Article(url)\n",
    "    article.download()\n",
    "    article.parse()\n",
    "    return {\n",
    "        'url': url,\n",
    "        'title': article.title,\n",
    "        'text': article.text,\n",
    "        'main_image': article.top_image\n",
    "    }"
   ]
  },
  {
   "cell_type": "code",
   "execution_count": 9,
   "metadata": {},
   "outputs": [
    {
     "name": "stderr",
     "output_type": "stream",
     "text": [
      "Scraping Progress:   0%|          | 0/10 [00:00<?, ?it/s]"
     ]
    },
    {
     "name": "stderr",
     "output_type": "stream",
     "text": [
      "Scraping Progress: 100%|██████████| 10/10 [00:03<00:00,  2.79it/s]\n"
     ]
    },
    {
     "data": {
      "text/html": [
       "<div>\n",
       "<style scoped>\n",
       "    .dataframe tbody tr th:only-of-type {\n",
       "        vertical-align: middle;\n",
       "    }\n",
       "\n",
       "    .dataframe tbody tr th {\n",
       "        vertical-align: top;\n",
       "    }\n",
       "\n",
       "    .dataframe thead th {\n",
       "        text-align: right;\n",
       "    }\n",
       "</style>\n",
       "<table border=\"1\" class=\"dataframe\">\n",
       "  <thead>\n",
       "    <tr style=\"text-align: right;\">\n",
       "      <th></th>\n",
       "      <th>url</th>\n",
       "      <th>title</th>\n",
       "      <th>text</th>\n",
       "      <th>main_image</th>\n",
       "    </tr>\n",
       "  </thead>\n",
       "  <tbody>\n",
       "    <tr>\n",
       "      <th>0</th>\n",
       "      <td>https://www.prothomalo.com/business/egkvb1ptqt</td>\n",
       "      <td>গরুর লবণাক্ত লোমশ চামড়া রপ্তানির অনুমতি</td>\n",
       "      <td></td>\n",
       "      <td>https://images.prothomalo.com/prothomalo-bangl...</td>\n",
       "    </tr>\n",
       "    <tr>\n",
       "      <th>1</th>\n",
       "      <td>https://www.prothomalo.com/bangladesh/district...</td>\n",
       "      <td>ডেঙ্গু পরিস্থিতি মোকাবিলায় সরকারের প্রস্তুতি আ...</td>\n",
       "      <td></td>\n",
       "      <td>https://images.prothomalo.com/prothomalo-bangl...</td>\n",
       "    </tr>\n",
       "    <tr>\n",
       "      <th>2</th>\n",
       "      <td>https://www.prothomalo.com/bangladesh/district...</td>\n",
       "      <td>কয়লাসংকটে আবার রামপাল বিদ্যুৎকেন্দ্রের উৎপাদন ...</td>\n",
       "      <td></td>\n",
       "      <td>https://images.prothomalo.com/prothomalo-bangl...</td>\n",
       "    </tr>\n",
       "    <tr>\n",
       "      <th>3</th>\n",
       "      <td>https://www.prothomalo.com/bangladesh/district...</td>\n",
       "      <td>৮০ লাখ টাকা আত্মসাতের অভিযোগে ভূমি অফিসের কর্ম...</td>\n",
       "      <td></td>\n",
       "      <td>https://images.prothomalo.com/prothomalo-bangl...</td>\n",
       "    </tr>\n",
       "    <tr>\n",
       "      <th>4</th>\n",
       "      <td>https://www.prothomalo.com/sports/cricket/arno...</td>\n",
       "      <td>লঙ্কা প্রিমিয়ার লিগে সাকিব-শরীফুল-হৃদয়দের ম্যা...</td>\n",
       "      <td></td>\n",
       "      <td>https://images.prothomalo.com/prothomalo-bangl...</td>\n",
       "    </tr>\n",
       "    <tr>\n",
       "      <th>5</th>\n",
       "      <td>https://www.prothomalo.com/politics/19nzdnuu8f</td>\n",
       "      <td>বিএনপির বিরুদ্ধে ‘সন্ত্রাসের’ অভিযোগে আওয়ামী ল...</td>\n",
       "      <td></td>\n",
       "      <td>https://images.prothomalo.com/prothomalo-bangl...</td>\n",
       "    </tr>\n",
       "    <tr>\n",
       "      <th>6</th>\n",
       "      <td>https://www.bondhushava.com/activities/r4m2t5lx0m</td>\n",
       "      <td>সাহিত্যের উচ্ছ্বাসে পটিয়ায় বইমেলা</td>\n",
       "      <td></td>\n",
       "      <td>https://images.prothomalo.com/prothomalo-bangl...</td>\n",
       "    </tr>\n",
       "    <tr>\n",
       "      <th>7</th>\n",
       "      <td>https://www.prothomalo.com/bangladesh/z1419k2dun</td>\n",
       "      <td>শনিবার সংঘর্ষের মধ্যে ৭ গাড়িতে আগুন, ২৪টি ভাঙচুর</td>\n",
       "      <td></td>\n",
       "      <td>https://images.prothomalo.com/prothomalo-bangl...</td>\n",
       "    </tr>\n",
       "    <tr>\n",
       "      <th>8</th>\n",
       "      <td>https://www.prothomalo.com/world/india/htz46ntmej</td>\n",
       "      <td>মণিপুরে ধর্ষণের শিকার নারীদের কথা পার্লামেন্টে...</td>\n",
       "      <td></td>\n",
       "      <td>https://images.prothomalo.com/prothomalo-bangl...</td>\n",
       "    </tr>\n",
       "    <tr>\n",
       "      <th>9</th>\n",
       "      <td>https://www.prothomalo.com/video/bangladesh/kl...</td>\n",
       "      <td>বিএনপি–পুলিশ সংঘর্ষ: ৭ থানায় ১১ মামলা</td>\n",
       "      <td></td>\n",
       "      <td>https://images.prothomalo.com/prothomalo-bangl...</td>\n",
       "    </tr>\n",
       "  </tbody>\n",
       "</table>\n",
       "</div>"
      ],
      "text/plain": [
       "                                                 url   \n",
       "0     https://www.prothomalo.com/business/egkvb1ptqt  \\\n",
       "1  https://www.prothomalo.com/bangladesh/district...   \n",
       "2  https://www.prothomalo.com/bangladesh/district...   \n",
       "3  https://www.prothomalo.com/bangladesh/district...   \n",
       "4  https://www.prothomalo.com/sports/cricket/arno...   \n",
       "5     https://www.prothomalo.com/politics/19nzdnuu8f   \n",
       "6  https://www.bondhushava.com/activities/r4m2t5lx0m   \n",
       "7   https://www.prothomalo.com/bangladesh/z1419k2dun   \n",
       "8  https://www.prothomalo.com/world/india/htz46ntmej   \n",
       "9  https://www.prothomalo.com/video/bangladesh/kl...   \n",
       "\n",
       "                                               title text   \n",
       "0            গরুর লবণাক্ত লোমশ চামড়া রপ্তানির অনুমতি       \\\n",
       "1  ডেঙ্গু পরিস্থিতি মোকাবিলায় সরকারের প্রস্তুতি আ...        \n",
       "2  কয়লাসংকটে আবার রামপাল বিদ্যুৎকেন্দ্রের উৎপাদন ...        \n",
       "3  ৮০ লাখ টাকা আত্মসাতের অভিযোগে ভূমি অফিসের কর্ম...        \n",
       "4  লঙ্কা প্রিমিয়ার লিগে সাকিব-শরীফুল-হৃদয়দের ম্যা...        \n",
       "5  বিএনপির বিরুদ্ধে ‘সন্ত্রাসের’ অভিযোগে আওয়ামী ল...        \n",
       "6                  সাহিত্যের উচ্ছ্বাসে পটিয়ায় বইমেলা        \n",
       "7   শনিবার সংঘর্ষের মধ্যে ৭ গাড়িতে আগুন, ২৪টি ভাঙচুর        \n",
       "8  মণিপুরে ধর্ষণের শিকার নারীদের কথা পার্লামেন্টে...        \n",
       "9              বিএনপি–পুলিশ সংঘর্ষ: ৭ থানায় ১১ মামলা        \n",
       "\n",
       "                                          main_image  \n",
       "0  https://images.prothomalo.com/prothomalo-bangl...  \n",
       "1  https://images.prothomalo.com/prothomalo-bangl...  \n",
       "2  https://images.prothomalo.com/prothomalo-bangl...  \n",
       "3  https://images.prothomalo.com/prothomalo-bangl...  \n",
       "4  https://images.prothomalo.com/prothomalo-bangl...  \n",
       "5  https://images.prothomalo.com/prothomalo-bangl...  \n",
       "6  https://images.prothomalo.com/prothomalo-bangl...  \n",
       "7  https://images.prothomalo.com/prothomalo-bangl...  \n",
       "8  https://images.prothomalo.com/prothomalo-bangl...  \n",
       "9  https://images.prothomalo.com/prothomalo-bangl...  "
      ]
     },
     "execution_count": 9,
     "metadata": {},
     "output_type": "execute_result"
    }
   ],
   "source": [
    "file_path = '/home/siyam/Desktop/github/3. news_recommendation/dags/data/urls_list.pkl'\n",
    "\n",
    "with open(file_path, 'rb') as f:\n",
    "    url_list = pickle.load(f)\n",
    "\n",
    "# Scrape data from each URL and store in a list of dictionaries\n",
    "data_list = []\n",
    "for url in tqdm(url_list[:10], desc=\"Scraping Progress\"):\n",
    "    data_list.append(scrape_data_from_url(url))\n",
    "\n",
    "# Create a DataFrame from the list of dictionaries\n",
    "df = pd.DataFrame(data_list)\n",
    "\n",
    "# Display the DataFrame\n",
    "df"
   ]
  },
  {
   "cell_type": "code",
   "execution_count": null,
   "metadata": {},
   "outputs": [],
   "source": []
  }
 ],
 "metadata": {
  "kernelspec": {
   "display_name": "concured",
   "language": "python",
   "name": "python3"
  },
  "language_info": {
   "codemirror_mode": {
    "name": "ipython",
    "version": 3
   },
   "file_extension": ".py",
   "mimetype": "text/x-python",
   "name": "python",
   "nbconvert_exporter": "python",
   "pygments_lexer": "ipython3",
   "version": "3.11.2"
  },
  "orig_nbformat": 4
 },
 "nbformat": 4,
 "nbformat_minor": 2
}
