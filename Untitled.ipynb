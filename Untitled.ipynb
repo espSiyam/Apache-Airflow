{
 "cells": [
  {
   "cell_type": "code",
   "execution_count": 2,
   "id": "c4cb7a6f-132b-444b-8821-fb50d9a6901b",
   "metadata": {
    "tags": []
   },
   "outputs": [],
   "source": [
    "import pickle\n",
    "import logging\n",
    "from tqdm import tqdm\n",
    "import os\n",
    "\n",
    "def load_pkls(path):\n",
    "    try:\n",
    "        with open(path, 'rb') as f:\n",
    "            url_list = pickle.load(f)\n",
    "        return url_list\n",
    "    except Exception as e:\n",
    "        logger.error(f\"Could not load data due to error: {str(e)} for path: {path}\")"
   ]
  },
  {
   "cell_type": "code",
   "execution_count": 3,
   "id": "6515adff-f21d-4479-a8fa-cfe023a83bc9",
   "metadata": {
    "tags": []
   },
   "outputs": [],
   "source": [
    "p_alo = load_pkls(\"dags/data/prothomalo_urls_list.pkl\")"
   ]
  },
  {
   "cell_type": "code",
   "execution_count": 5,
   "id": "8cb167db-ecb5-4723-b8d3-2f23fe1bcb61",
   "metadata": {
    "tags": []
   },
   "outputs": [
    {
     "data": {
      "text/plain": [
       "244"
      ]
     },
     "execution_count": 5,
     "metadata": {},
     "output_type": "execute_result"
    }
   ],
   "source": [
    "len(p_alo)"
   ]
  },
  {
   "cell_type": "code",
   "execution_count": null,
   "id": "5429a263-4bc7-4264-9859-7276e7930f49",
   "metadata": {},
   "outputs": [],
   "source": []
  }
 ],
 "metadata": {
  "kernelspec": {
   "display_name": "Python 3 (ipykernel)",
   "language": "python",
   "name": "python3"
  },
  "language_info": {
   "codemirror_mode": {
    "name": "ipython",
    "version": 3
   },
   "file_extension": ".py",
   "mimetype": "text/x-python",
   "name": "python",
   "nbconvert_exporter": "python",
   "pygments_lexer": "ipython3",
   "version": "3.11.2"
  }
 },
 "nbformat": 4,
 "nbformat_minor": 5
}
